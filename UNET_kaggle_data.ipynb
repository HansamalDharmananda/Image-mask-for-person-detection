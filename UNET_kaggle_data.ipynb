{
  "nbformat": 4,
  "nbformat_minor": 0,
  "metadata": {
    "colab": {
      "name": "UNET_kaggle_data.ipynb",
      "provenance": [],
      "collapsed_sections": []
    },
    "kernelspec": {
      "name": "python3",
      "display_name": "Python 3"
    },
    "language_info": {
      "name": "python"
    },
    "accelerator": "GPU"
  },
  "cells": [
    {
      "cell_type": "code",
      "metadata": {
        "colab": {
          "resources": {
            "http://localhost:8080/nbextensions/google.colab/files.js": {
              "data": "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",
              "ok": true,
              "headers": [
                [
                  "content-type",
                  "application/javascript"
                ]
              ],
              "status": 200,
              "status_text": ""
            }
          },
          "base_uri": "https://localhost:8080/",
          "height": 89
        },
        "id": "n87Lp2UU8pxE",
        "outputId": "8f1e746e-6fed-4a70-9c0f-8abee6370ea3"
      },
      "source": [
        "from google.colab import files\n",
        "files.upload()"
      ],
      "execution_count": null,
      "outputs": [
        {
          "output_type": "display_data",
          "data": {
            "text/html": [
              "\n",
              "     <input type=\"file\" id=\"files-8b24a944-0603-4ddb-b9b2-a2d5a7a992ce\" name=\"files[]\" multiple disabled\n",
              "        style=\"border:none\" />\n",
              "     <output id=\"result-8b24a944-0603-4ddb-b9b2-a2d5a7a992ce\">\n",
              "      Upload widget is only available when the cell has been executed in the\n",
              "      current browser session. Please rerun this cell to enable.\n",
              "      </output>\n",
              "      <script src=\"/nbextensions/google.colab/files.js\"></script> "
            ],
            "text/plain": [
              "<IPython.core.display.HTML object>"
            ]
          },
          "metadata": {
            "tags": []
          }
        },
        {
          "output_type": "stream",
          "text": [
            "Saving kaggle.json to kaggle.json\n"
          ],
          "name": "stdout"
        },
        {
          "output_type": "execute_result",
          "data": {
            "text/plain": [
              "{'kaggle.json': b'{\"username\":\"hansamaldharmananda\",\"key\":\"d183c1852f764192e21faf8a6ca7352c\"}'}"
            ]
          },
          "metadata": {
            "tags": []
          },
          "execution_count": 1
        }
      ]
    },
    {
      "cell_type": "code",
      "metadata": {
        "colab": {
          "base_uri": "https://localhost:8080/"
        },
        "id": "6dSwJ5P489xN",
        "outputId": "153b0dfa-c1e4-4e56-e310-2840d4cdcbfd"
      },
      "source": [
        "!ls -lha kaggle.json"
      ],
      "execution_count": null,
      "outputs": [
        {
          "output_type": "stream",
          "text": [
            "-rw-r--r-- 1 root root 75 Apr 29 01:25 kaggle.json\n"
          ],
          "name": "stdout"
        }
      ]
    },
    {
      "cell_type": "code",
      "metadata": {
        "id": "trrsTOoS9PIV"
      },
      "source": [
        "!pip install -q kaggle"
      ],
      "execution_count": null,
      "outputs": []
    },
    {
      "cell_type": "code",
      "metadata": {
        "id": "BWUUY4DM9TnW"
      },
      "source": [
        "# The Kaggle API client expects this file to be in ~/.kaggle,\n",
        "# so move it there.\n",
        "!mkdir -p ~/.kaggle\n",
        "!cp kaggle.json ~/.kaggle/\n",
        "\n",
        "# This permissions change avoids a warning on Kaggle tool startup.\n",
        "!chmod 600 ~/.kaggle/kaggle.json"
      ],
      "execution_count": null,
      "outputs": []
    },
    {
      "cell_type": "code",
      "metadata": {
        "id": "4Q4nqe1o9X44"
      },
      "source": [
        "!kaggle datasets list"
      ],
      "execution_count": null,
      "outputs": []
    },
    {
      "cell_type": "code",
      "metadata": {
        "colab": {
          "base_uri": "https://localhost:8080/"
        },
        "id": "56KkRuP89jYr",
        "outputId": "d4d9d131-140f-45a9-8167-bfa83cdf5a10"
      },
      "source": [
        "!kaggle datasets download -d nikhilroxtomar/person-segmentation"
      ],
      "execution_count": null,
      "outputs": [
        {
          "output_type": "stream",
          "text": [
            "Downloading person-segmentation.zip to /content\n",
            " 95% 438M/461M [00:03<00:00, 229MB/s]\n",
            "100% 461M/461M [00:03<00:00, 135MB/s]\n"
          ],
          "name": "stdout"
        }
      ]
    },
    {
      "cell_type": "code",
      "metadata": {
        "id": "UKK0Iqo6_B7y"
      },
      "source": [
        "!unzip person-segmentation.zip"
      ],
      "execution_count": null,
      "outputs": []
    },
    {
      "cell_type": "code",
      "metadata": {
        "id": "VjjWBFuI_pDS"
      },
      "source": [
        "!cd people_segmentation"
      ],
      "execution_count": null,
      "outputs": []
    },
    {
      "cell_type": "markdown",
      "metadata": {
        "id": "IiO5ZuGUHY-_"
      },
      "source": [
        "##"
      ]
    },
    {
      "cell_type": "markdown",
      "metadata": {
        "id": "8u3eGqdcHbvn"
      },
      "source": [
        "# CODE data"
      ]
    },
    {
      "cell_type": "code",
      "metadata": {
        "id": "_9CYPPhWCHdE"
      },
      "source": [
        "import os\n",
        "import numpy as np\n",
        "import cv2\n",
        "from glob import glob\n",
        "from sklearn.model_selection import train_test_split\n",
        "import tensorflow as tf\n",
        "\n",
        "def read_image(path):\n",
        "    x = cv2.imread(path, cv2.IMREAD_COLOR)\n",
        "    x = cv2.resize(x, (256, 256))\n",
        "    x = x / 255.0\n",
        "    x = x.astype(np.float32)\n",
        "    return x\n",
        "\n",
        "def read_mask(path):\n",
        "    x = cv2.imread(path, cv2.IMREAD_GRAYSCALE)\n",
        "    x = cv2.resize(x, (256, 256))\n",
        "    # x = x/255.0\n",
        "    # x = x > 0.5\n",
        "    x = x.astype(np.float32)\n",
        "    x = np.expand_dims(x, axis=-1)\n",
        "    return x\n",
        "\n",
        "def load_dataset(dataset_path):\n",
        "    images = sorted(glob(os.path.join(dataset_path, \"images/*\")))\n",
        "    masks = sorted(glob(os.path.join(dataset_path, \"masks/*\")))\n",
        "\n",
        "    train_x, test_x = train_test_split(images, test_size=0.2, random_state=42)\n",
        "    train_y, test_y = train_test_split(masks, test_size=0.2, random_state=42)\n",
        "\n",
        "    return (train_x, train_y), (test_x, test_y)\n",
        "\n",
        "def preprocess(image_path, mask_path):\n",
        "    def f(image_path, mask_path):\n",
        "        image_path = image_path.decode()\n",
        "        mask_path = mask_path.decode()\n",
        "\n",
        "        x = read_image(image_path)\n",
        "        y = read_mask(mask_path)\n",
        "\n",
        "        return x, y\n",
        "\n",
        "    image, mask = tf.numpy_function(f, [image_path, mask_path], [tf.float32, tf.float32])\n",
        "    image.set_shape([256, 256, 3])\n",
        "    mask.set_shape([256, 256, 1])\n",
        "\n",
        "    return image, mask\n",
        "\n",
        "def tf_dataset(images, masks, batch=8):\n",
        "    dataset = tf.data.Dataset.from_tensor_slices((images, masks))\n",
        "    dataset = dataset.shuffle(buffer_size=5000)\n",
        "    dataset = dataset.map(preprocess)\n",
        "    dataset = dataset.batch(batch)\n",
        "    dataset = dataset.prefetch(2)\n",
        "    return dataset\n"
      ],
      "execution_count": null,
      "outputs": []
    },
    {
      "cell_type": "code",
      "metadata": {
        "colab": {
          "base_uri": "https://localhost:8080/"
        },
        "id": "uBwD72h3H8u3",
        "outputId": "16034362-6888-49b0-bbb2-c25b945db7e9"
      },
      "source": [
        "dataset_path = r'/content/people_segmentation'\n",
        "(train_x, train_y), (test_x, test_y) = load_dataset(dataset_path)\n",
        "print(f\"Train: {len(train_x)} - {len(train_y)}\")\n",
        "print(f\"Test: {len(test_x)} - {len(test_y)}\")\n",
        "\n",
        "train_dataset = tf_dataset(train_x, train_y, batch=8)"
      ],
      "execution_count": null,
      "outputs": [
        {
          "output_type": "stream",
          "text": [
            "Train: 4542 - 4542\n",
            "Test: 1136 - 1136\n"
          ],
          "name": "stdout"
        }
      ]
    },
    {
      "cell_type": "markdown",
      "metadata": {
        "id": "90XPfRCyITLW"
      },
      "source": [
        "# Model Design"
      ]
    },
    {
      "cell_type": "code",
      "metadata": {
        "id": "kRSN-7v6IW2J"
      },
      "source": [
        "from tensorflow.keras.layers import Conv2D, BatchNormalization, Activation, MaxPool2D, Conv2DTranspose, Concatenate, Input\n",
        "from tensorflow.keras.models import Model\n",
        "\n",
        "def conv_block(input, num_filters):\n",
        "    x = Conv2D(num_filters, 3, padding=\"same\")(input)\n",
        "    x = BatchNormalization()(x)\n",
        "    x = Activation(\"relu\")(x)\n",
        "\n",
        "    x = Conv2D(num_filters, 3, padding=\"same\")(x)\n",
        "    x = BatchNormalization()(x)\n",
        "    x = Activation(\"relu\")(x)\n",
        "\n",
        "    return x\n",
        "\n",
        "def encoder_block(input, num_filters):\n",
        "    x = conv_block(input, num_filters)\n",
        "    p = MaxPool2D((2, 2))(x)\n",
        "    return x, p\n",
        "\n",
        "def decoder_block(input, skip_features, num_filters):\n",
        "    x = Conv2DTranspose(num_filters, (2, 2), strides=2, padding=\"same\")(input)\n",
        "    x = Concatenate()([x, skip_features])\n",
        "    x = conv_block(x, num_filters)\n",
        "    return x\n",
        "\n",
        "def build_unet(input_shape):\n",
        "    inputs = Input(input_shape)         # 512\n",
        "\n",
        "\n",
        "    # encoder\n",
        "    s1, p1 = encoder_block(inputs, 64)  # 256\n",
        "    s2, p2 = encoder_block(p1, 128)     # 128\n",
        "    s3, p3 = encoder_block(p2, 256)     # 64\n",
        "    s4, p4 = encoder_block(p3, 512)     # 32\n",
        "\n",
        "    # bridge\n",
        "    b1 = conv_block(p4, 1024)\n",
        "\n",
        "    # decoder\n",
        "    d1 = decoder_block(b1, s4, 512)     # \n",
        "    d2 = decoder_block(d1, s3, 256)     # \n",
        "    d3 = decoder_block(d2, s2, 128)     # \n",
        "    d4 = decoder_block(d3, s1, 64)      # \n",
        "\n",
        "    outputs = Conv2D(1, 1, padding=\"same\", activation=\"sigmoid\")(d4)\n",
        "\n",
        "    model = Model(inputs, outputs, name=\"U-Net\")\n",
        "    return model"
      ],
      "execution_count": null,
      "outputs": []
    },
    {
      "cell_type": "code",
      "metadata": {
        "id": "O6mypIo4KPhd"
      },
      "source": [
        "# input_shape = (512, 512, 3)\n",
        "# model = build_unet(input_shape)\n",
        "# # model.summary()"
      ],
      "execution_count": null,
      "outputs": []
    },
    {
      "cell_type": "markdown",
      "metadata": {
        "id": "LZQfW6KYKsv_"
      },
      "source": [
        "# **Train the Model**"
      ]
    },
    {
      "cell_type": "code",
      "metadata": {
        "colab": {
          "base_uri": "https://localhost:8080/"
        },
        "id": "ywGPdlSIKuuc",
        "outputId": "dcc8e852-788f-4d9d-9600-7941466a3b1b"
      },
      "source": [
        "import os\n",
        "os.environ[\"TF_CPP_MIN_LOG_LEVEL\"] = \"2\"\n",
        "import numpy as np\n",
        "import tensorflow as tf\n",
        "from tensorflow.keras.callbacks import ModelCheckpoint, ReduceLROnPlateau, CSVLogger, EarlyStopping\n",
        "\n",
        "\"\"\" Hyperparamaters \"\"\"\n",
        "dataset_path = r'/content/people_segmentation'\n",
        "input_shape = (256, 256, 3)\n",
        "batch_size = 12\n",
        "epochs = 10\n",
        "lr = 1e-4\n",
        "model_path = r'/content/people_segmentation/unet.h5' # save to your own drive location\n",
        "csv_path = r'/content/people_segmentation/data.csv' # save to your own drive location\n",
        "\n",
        "\"\"\" Load the dataset \"\"\"\n",
        "(train_x, train_y), (test_x, test_y) = load_dataset(dataset_path)\n",
        "print(f\"Train: {len(train_x)} - {len(train_y)}\")\n",
        "print(f\"Test: {len(test_x)} - {len(test_y)}\")\n",
        "\n",
        "train_dataset = tf_dataset(train_x, train_y, batch=batch_size)\n",
        "test_dataset = tf_dataset(test_x, test_y, batch=batch_size)\n",
        "\n",
        "\"\"\" Model \"\"\"\n",
        "model = build_unet(input_shape)\n",
        "model.compile(\n",
        "    loss=\"binary_crossentropy\",\n",
        "    optimizer=tf.keras.optimizers.Adam(lr),\n",
        "    metrics=[\n",
        "        tf.keras.metrics.MeanIoU(num_classes=2),\n",
        "        tf.keras.metrics.Recall(),\n",
        "        tf.keras.metrics.Precision(),\n",
        "        ['accuracy']\n",
        "    ]\n",
        ")\n",
        "\n",
        "    # model.summary()\n",
        "\n",
        "callbacks = [\n",
        "    ModelCheckpoint(model_path, monitor=\"val_loss\", verbose=1),\n",
        "    ReduceLROnPlateau(monitor=\"val_loss\", patience=5, factor=0.1, verbose=1),\n",
        "    CSVLogger(csv_path),\n",
        "    EarlyStopping(monitor=\"val_loss\", patience=10)\n",
        "]\n",
        "\n",
        "train_steps = len(train_x)//batch_size\n",
        "if len(train_x) % batch_size != 0:\n",
        "    train_steps += 1\n",
        "\n",
        "test_steps = len(test_x)//batch_size\n",
        "if len(test_x) % batch_size != 0:\n",
        "    test_steps += 1\n",
        "\n",
        "history = model.fit(\n",
        "    train_dataset,\n",
        "    validation_data=test_dataset,\n",
        "    epochs=epochs,\n",
        "    steps_per_epoch=train_steps,\n",
        "    validation_steps=test_steps,\n",
        "    callbacks=callbacks\n",
        ")"
      ],
      "execution_count": null,
      "outputs": [
        {
          "output_type": "stream",
          "text": [
            "Train: 4542 - 4542\n",
            "Test: 1136 - 1136\n",
            "Epoch 1/10\n",
            "379/379 [==============================] - 279s 730ms/step - loss: 0.5301 - mean_io_u_1: 0.3732 - recall_1: 0.6319 - precision_1: 0.5062 - accuracy: 0.7291 - val_loss: 0.4152 - val_mean_io_u_1: 0.3721 - val_recall_1: 0.5193 - val_precision_1: 0.7057 - val_accuracy: 0.8217\n",
            "\n",
            "Epoch 00001: saving model to /content/people_segmentation/unet.h5\n",
            "Epoch 2/10\n",
            "379/379 [==============================] - 276s 727ms/step - loss: 0.3182 - mean_io_u_1: 0.3740 - recall_1: 0.6938 - precision_1: 0.7521 - accuracy: 0.8652 - val_loss: 0.3130 - val_mean_io_u_1: 0.3721 - val_recall_1: 0.8260 - val_precision_1: 0.6994 - val_accuracy: 0.8647\n",
            "\n",
            "Epoch 00002: saving model to /content/people_segmentation/unet.h5\n",
            "Epoch 3/10\n",
            "379/379 [==============================] - 277s 730ms/step - loss: 0.2791 - mean_io_u_1: 0.3739 - recall_1: 0.7429 - precision_1: 0.7887 - accuracy: 0.8848 - val_loss: 0.2799 - val_mean_io_u_1: 0.3721 - val_recall_1: 0.6449 - val_precision_1: 0.8453 - val_accuracy: 0.8790\n",
            "\n",
            "Epoch 00003: saving model to /content/people_segmentation/unet.h5\n",
            "Epoch 4/10\n",
            "379/379 [==============================] - 275s 726ms/step - loss: 0.2600 - mean_io_u_1: 0.3724 - recall_1: 0.7627 - precision_1: 0.8042 - accuracy: 0.8920 - val_loss: 0.3766 - val_mean_io_u_1: 0.3726 - val_recall_1: 0.9003 - val_precision_1: 0.6823 - val_accuracy: 0.8673\n",
            "\n",
            "Epoch 00004: saving model to /content/people_segmentation/unet.h5\n",
            "Epoch 5/10\n",
            "379/379 [==============================] - 276s 729ms/step - loss: 0.2344 - mean_io_u_1: 0.3719 - recall_1: 0.7853 - precision_1: 0.8304 - accuracy: 0.9038 - val_loss: 0.2572 - val_mean_io_u_1: 0.3721 - val_recall_1: 0.8549 - val_precision_1: 0.7537 - val_accuracy: 0.8915\n",
            "\n",
            "Epoch 00005: saving model to /content/people_segmentation/unet.h5\n",
            "Epoch 6/10\n",
            "379/379 [==============================] - 278s 732ms/step - loss: 0.2115 - mean_io_u_1: 0.3749 - recall_1: 0.8167 - precision_1: 0.8368 - accuracy: 0.9142 - val_loss: 0.2606 - val_mean_io_u_1: 0.3725 - val_recall_1: 0.8691 - val_precision_1: 0.7695 - val_accuracy: 0.9000\n",
            "\n",
            "Epoch 00006: saving model to /content/people_segmentation/unet.h5\n",
            "Epoch 7/10\n",
            "379/379 [==============================] - 276s 727ms/step - loss: 0.1982 - mean_io_u_1: 0.3728 - recall_1: 0.8289 - precision_1: 0.8522 - accuracy: 0.9198 - val_loss: 0.2319 - val_mean_io_u_1: 0.3721 - val_recall_1: 0.8465 - val_precision_1: 0.8057 - val_accuracy: 0.9085\n",
            "\n",
            "Epoch 00007: saving model to /content/people_segmentation/unet.h5\n",
            "Epoch 8/10\n",
            "379/379 [==============================] - 276s 727ms/step - loss: 0.1841 - mean_io_u_1: 0.3726 - recall_1: 0.8457 - precision_1: 0.8606 - accuracy: 0.9258 - val_loss: 0.2214 - val_mean_io_u_1: 0.3721 - val_recall_1: 0.8434 - val_precision_1: 0.8038 - val_accuracy: 0.9073\n",
            "\n",
            "Epoch 00008: saving model to /content/people_segmentation/unet.h5\n",
            "Epoch 9/10\n",
            "379/379 [==============================] - 276s 727ms/step - loss: 0.1715 - mean_io_u_1: 0.3729 - recall_1: 0.8630 - precision_1: 0.8693 - accuracy: 0.9322 - val_loss: 0.2270 - val_mean_io_u_1: 0.3721 - val_recall_1: 0.8522 - val_precision_1: 0.8094 - val_accuracy: 0.9109\n",
            "\n",
            "Epoch 00009: saving model to /content/people_segmentation/unet.h5\n",
            "Epoch 10/10\n",
            "379/379 [==============================] - 275s 726ms/step - loss: 0.1634 - mean_io_u_1: 0.3718 - recall_1: 0.8717 - precision_1: 0.8720 - accuracy: 0.9343 - val_loss: 0.2167 - val_mean_io_u_1: 0.3722 - val_recall_1: 0.9070 - val_precision_1: 0.7933 - val_accuracy: 0.9158\n",
            "\n",
            "Epoch 00010: saving model to /content/people_segmentation/unet.h5\n"
          ],
          "name": "stdout"
        }
      ]
    },
    {
      "cell_type": "code",
      "metadata": {
        "colab": {
          "base_uri": "https://localhost:8080/",
          "height": 295
        },
        "id": "bIY6GHWQUnXU",
        "outputId": "5a481368-8605-425e-fc79-a0bcd57c947f"
      },
      "source": [
        "import matplotlib.pyplot as plt\n",
        "\n",
        "plt.figure()\n",
        "plt.plot(history.history[\"accuracy\"], label = \"Train\")\n",
        "plt.plot(history.history[\"val_accuracy\"], label = \"Validation\")\n",
        "plt.title(\"Accuracy\")\n",
        "plt.ylabel(\"Accuracy\")\n",
        "plt.xlabel(\"epochs\")\n",
        "plt.legend()\n",
        "plt.show()"
      ],
      "execution_count": null,
      "outputs": [
        {
          "output_type": "display_data",
          "data": {
            "image/png": "[encoded data removed]",
            "text/plain": [
              "<Figure size 432x288 with 1 Axes>"
            ]
          },
          "metadata": {
            "tags": [],
            "needs_background": "light"
          }
        }
      ]
    },
    {
      "cell_type": "code",
      "metadata": {
        "id": "ByKhRED2LbSJ",
        "colab": {
          "base_uri": "https://localhost:8080/",
          "height": 295
        },
        "outputId": "0f5f03cd-490b-4a37-e347-8d38564cef86"
      },
      "source": [
        "plt.figure()\n",
        "plt.plot(history.history[\"loss\"], label = \"Train\")\n",
        "plt.plot(history.history[\"val_loss\"], label = \"Validation\")\n",
        "plt.title(\"Loss\")\n",
        "plt.ylabel(\"Loss\")\n",
        "plt.xlabel(\"epochs\")\n",
        "plt.legend()\n",
        "plt.show()"
      ],
      "execution_count": null,
      "outputs": [
        {
          "output_type": "display_data",
          "data": {
            "image/png": "[encoded data removed]",
            "text/plain": [
              "<Figure size 432x288 with 1 Axes>"
            ]
          },
          "metadata": {
            "tags": [],
            "needs_background": "light"
          }
        }
      ]
    },
    {
      "cell_type": "markdown",
      "metadata": {
        "id": "05qr57oJgWyU"
      },
      "source": [
        "# Testing model"
      ]
    },
    {
      "cell_type": "code",
      "metadata": {
        "colab": {
          "base_uri": "https://localhost:8080/"
        },
        "id": "GRBmZoABgaXm",
        "outputId": "9fc7a5a4-9480-40d9-ca90-bf5939799a20"
      },
      "source": [
        "import os\n",
        "os.environ[\"TF_CPP_MIN_LOG_LEVEL\"] = \"2\"\n",
        "import tensorflow as tf\n",
        "import numpy as np\n",
        "import cv2\n",
        "from glob import glob\n",
        "from tqdm import tqdm\n",
        "\n",
        "if __name__ == \"__main__\":\n",
        "    \"\"\" Load the test images \"\"\"\n",
        "    test_images = glob(\"/content/people_segmentation/test_images/*\")\n",
        "\n",
        "    \"\"\" Load the model \"\"\"\n",
        "    model = tf.keras.models.load_model(\"/content/people_segmentation/unet.h5\")\n",
        "\n",
        "    for path in tqdm(test_images, total=len(test_images)):\n",
        "        x = cv2.imread(path, cv2.IMREAD_COLOR)\n",
        "        original_image = x\n",
        "        h, w, _ = x.shape\n",
        "\n",
        "        x = cv2.resize(x, (256, 256))\n",
        "        x = x/255.0\n",
        "        x = x.astype(np.float32)\n",
        "\n",
        "        x = np.expand_dims(x, axis=0)\n",
        "        pred_mask = model.predict(x)[0]\n",
        "\n",
        "        pred_mask = np.concatenate(\n",
        "            [\n",
        "                pred_mask,\n",
        "                pred_mask,\n",
        "                pred_mask\n",
        "            ], axis=2)\n",
        "        pred_mask = (pred_mask > 0.5) * 255\n",
        "        pred_mask = pred_mask.astype(np.float32)\n",
        "        pred_mask = cv2.resize(pred_mask, (w, h))\n",
        "\n",
        "        original_image = original_image.astype(np.float32)\n",
        "\n",
        "        alpha = 0.6\n",
        "        cv2.addWeighted(pred_mask, alpha, original_image, 1-alpha, 0, original_image)\n",
        "\n",
        "        name = path.split(\"/\")[-1]\n",
        "        cv2.imwrite(f\"/content/people_segmentation/save_images/{name}\", original_image)"
      ],
      "execution_count": null,
      "outputs": [
        {
          "output_type": "stream",
          "text": [
            "100%|██████████| 4/4 [00:03<00:00,  1.09it/s]\n"
          ],
          "name": "stderr"
        }
      ]
    }
  ]
}